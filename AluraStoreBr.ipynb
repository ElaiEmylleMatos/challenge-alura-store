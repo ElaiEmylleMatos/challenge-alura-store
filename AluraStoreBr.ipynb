{
  "nbformat": 4,
  "nbformat_minor": 0,
  "metadata": {
    "colab": {
      "provenance": [],
      "include_colab_link": true
    },
    "kernelspec": {
      "name": "python3",
      "display_name": "Python 3"
    },
    "language_info": {
      "name": "python"
    }
  },
  "cells": [
    {
      "cell_type": "markdown",
      "metadata": {
        "id": "view-in-github",
        "colab_type": "text"
      },
      "source": [
        "<a href=\"https://colab.research.google.com/github/ElaiEmylleMatos/challenge-alura-store/blob/main/AluraStoreBr.ipynb\" target=\"_parent\"><img src=\"https://colab.research.google.com/assets/colab-badge.svg\" alt=\"Open In Colab\"/></a>"
      ]
    },
    {
      "cell_type": "markdown",
      "source": [
        "### Importação dos dados\n",
        "\n"
      ],
      "metadata": {
        "id": "RhEdWd9YUR6H"
      }
    },
    {
      "cell_type": "code",
      "execution_count": 41,
      "metadata": {
        "colab": {
          "base_uri": "https://localhost:8080/",
          "height": 365
        },
        "id": "T3EvaeQ_INIL",
        "outputId": "c03ead4b-7e6f-47b3-8cd2-c292595deffc"
      },
      "outputs": [
        {
          "output_type": "execute_result",
          "data": {
            "text/plain": [
              "                 Produto Categoria do Produto    Preço      Frete  \\\n",
              "0     Assistente virtual          eletronicos   219.08   9.249790   \n",
              "1         Mesa de jantar               moveis   256.35  11.234305   \n",
              "2      Jogo de tabuleiro           brinquedos   279.51  21.262681   \n",
              "3            Micro-ondas     eletrodomesticos  1009.99  54.667344   \n",
              "4  Cadeira de escritório               moveis   446.99  26.964689   \n",
              "\n",
              "  Data da Compra        Vendedor Local da compra  Avaliação da compra  \\\n",
              "0     16/01/2021     Pedro Gomes              SP                    4   \n",
              "1     18/05/2022  Beatriz Moraes              RJ                    1   \n",
              "2     15/03/2021      João Souza              DF                    1   \n",
              "3     03/05/2022      João Souza              RS                    4   \n",
              "4     07/11/2020   Larissa Alves              MG                    5   \n",
              "\n",
              "  Tipo de pagamento  Quantidade de parcelas    lat    lon  \n",
              "0    cartao_credito                       8 -22.19 -48.79  \n",
              "1    cartao_credito                       4 -22.25 -42.66  \n",
              "2    cartao_credito                       1 -15.83 -47.86  \n",
              "3            boleto                       1 -30.17 -53.50  \n",
              "4            boleto                       1 -18.10 -44.38  "
            ],
            "text/html": [
              "\n",
              "  <div id=\"df-957bdaac-9b1b-46a5-aa1a-7abf8c9f8903\" class=\"colab-df-container\">\n",
              "    <div>\n",
              "<style scoped>\n",
              "    .dataframe tbody tr th:only-of-type {\n",
              "        vertical-align: middle;\n",
              "    }\n",
              "\n",
              "    .dataframe tbody tr th {\n",
              "        vertical-align: top;\n",
              "    }\n",
              "\n",
              "    .dataframe thead th {\n",
              "        text-align: right;\n",
              "    }\n",
              "</style>\n",
              "<table border=\"1\" class=\"dataframe\">\n",
              "  <thead>\n",
              "    <tr style=\"text-align: right;\">\n",
              "      <th></th>\n",
              "      <th>Produto</th>\n",
              "      <th>Categoria do Produto</th>\n",
              "      <th>Preço</th>\n",
              "      <th>Frete</th>\n",
              "      <th>Data da Compra</th>\n",
              "      <th>Vendedor</th>\n",
              "      <th>Local da compra</th>\n",
              "      <th>Avaliação da compra</th>\n",
              "      <th>Tipo de pagamento</th>\n",
              "      <th>Quantidade de parcelas</th>\n",
              "      <th>lat</th>\n",
              "      <th>lon</th>\n",
              "    </tr>\n",
              "  </thead>\n",
              "  <tbody>\n",
              "    <tr>\n",
              "      <th>0</th>\n",
              "      <td>Assistente virtual</td>\n",
              "      <td>eletronicos</td>\n",
              "      <td>219.08</td>\n",
              "      <td>9.249790</td>\n",
              "      <td>16/01/2021</td>\n",
              "      <td>Pedro Gomes</td>\n",
              "      <td>SP</td>\n",
              "      <td>4</td>\n",
              "      <td>cartao_credito</td>\n",
              "      <td>8</td>\n",
              "      <td>-22.19</td>\n",
              "      <td>-48.79</td>\n",
              "    </tr>\n",
              "    <tr>\n",
              "      <th>1</th>\n",
              "      <td>Mesa de jantar</td>\n",
              "      <td>moveis</td>\n",
              "      <td>256.35</td>\n",
              "      <td>11.234305</td>\n",
              "      <td>18/05/2022</td>\n",
              "      <td>Beatriz Moraes</td>\n",
              "      <td>RJ</td>\n",
              "      <td>1</td>\n",
              "      <td>cartao_credito</td>\n",
              "      <td>4</td>\n",
              "      <td>-22.25</td>\n",
              "      <td>-42.66</td>\n",
              "    </tr>\n",
              "    <tr>\n",
              "      <th>2</th>\n",
              "      <td>Jogo de tabuleiro</td>\n",
              "      <td>brinquedos</td>\n",
              "      <td>279.51</td>\n",
              "      <td>21.262681</td>\n",
              "      <td>15/03/2021</td>\n",
              "      <td>João Souza</td>\n",
              "      <td>DF</td>\n",
              "      <td>1</td>\n",
              "      <td>cartao_credito</td>\n",
              "      <td>1</td>\n",
              "      <td>-15.83</td>\n",
              "      <td>-47.86</td>\n",
              "    </tr>\n",
              "    <tr>\n",
              "      <th>3</th>\n",
              "      <td>Micro-ondas</td>\n",
              "      <td>eletrodomesticos</td>\n",
              "      <td>1009.99</td>\n",
              "      <td>54.667344</td>\n",
              "      <td>03/05/2022</td>\n",
              "      <td>João Souza</td>\n",
              "      <td>RS</td>\n",
              "      <td>4</td>\n",
              "      <td>boleto</td>\n",
              "      <td>1</td>\n",
              "      <td>-30.17</td>\n",
              "      <td>-53.50</td>\n",
              "    </tr>\n",
              "    <tr>\n",
              "      <th>4</th>\n",
              "      <td>Cadeira de escritório</td>\n",
              "      <td>moveis</td>\n",
              "      <td>446.99</td>\n",
              "      <td>26.964689</td>\n",
              "      <td>07/11/2020</td>\n",
              "      <td>Larissa Alves</td>\n",
              "      <td>MG</td>\n",
              "      <td>5</td>\n",
              "      <td>boleto</td>\n",
              "      <td>1</td>\n",
              "      <td>-18.10</td>\n",
              "      <td>-44.38</td>\n",
              "    </tr>\n",
              "  </tbody>\n",
              "</table>\n",
              "</div>\n",
              "    <div class=\"colab-df-buttons\">\n",
              "\n",
              "  <div class=\"colab-df-container\">\n",
              "    <button class=\"colab-df-convert\" onclick=\"convertToInteractive('df-957bdaac-9b1b-46a5-aa1a-7abf8c9f8903')\"\n",
              "            title=\"Convert this dataframe to an interactive table.\"\n",
              "            style=\"display:none;\">\n",
              "\n",
              "  <svg xmlns=\"http://www.w3.org/2000/svg\" height=\"24px\" viewBox=\"0 -960 960 960\">\n",
              "    <path d=\"M120-120v-720h720v720H120Zm60-500h600v-160H180v160Zm220 220h160v-160H400v160Zm0 220h160v-160H400v160ZM180-400h160v-160H180v160Zm440 0h160v-160H620v160ZM180-180h160v-160H180v160Zm440 0h160v-160H620v160Z\"/>\n",
              "  </svg>\n",
              "    </button>\n",
              "\n",
              "  <style>\n",
              "    .colab-df-container {\n",
              "      display:flex;\n",
              "      gap: 12px;\n",
              "    }\n",
              "\n",
              "    .colab-df-convert {\n",
              "      background-color: #E8F0FE;\n",
              "      border: none;\n",
              "      border-radius: 50%;\n",
              "      cursor: pointer;\n",
              "      display: none;\n",
              "      fill: #1967D2;\n",
              "      height: 32px;\n",
              "      padding: 0 0 0 0;\n",
              "      width: 32px;\n",
              "    }\n",
              "\n",
              "    .colab-df-convert:hover {\n",
              "      background-color: #E2EBFA;\n",
              "      box-shadow: 0px 1px 2px rgba(60, 64, 67, 0.3), 0px 1px 3px 1px rgba(60, 64, 67, 0.15);\n",
              "      fill: #174EA6;\n",
              "    }\n",
              "\n",
              "    .colab-df-buttons div {\n",
              "      margin-bottom: 4px;\n",
              "    }\n",
              "\n",
              "    [theme=dark] .colab-df-convert {\n",
              "      background-color: #3B4455;\n",
              "      fill: #D2E3FC;\n",
              "    }\n",
              "\n",
              "    [theme=dark] .colab-df-convert:hover {\n",
              "      background-color: #434B5C;\n",
              "      box-shadow: 0px 1px 3px 1px rgba(0, 0, 0, 0.15);\n",
              "      filter: drop-shadow(0px 1px 2px rgba(0, 0, 0, 0.3));\n",
              "      fill: #FFFFFF;\n",
              "    }\n",
              "  </style>\n",
              "\n",
              "    <script>\n",
              "      const buttonEl =\n",
              "        document.querySelector('#df-957bdaac-9b1b-46a5-aa1a-7abf8c9f8903 button.colab-df-convert');\n",
              "      buttonEl.style.display =\n",
              "        google.colab.kernel.accessAllowed ? 'block' : 'none';\n",
              "\n",
              "      async function convertToInteractive(key) {\n",
              "        const element = document.querySelector('#df-957bdaac-9b1b-46a5-aa1a-7abf8c9f8903');\n",
              "        const dataTable =\n",
              "          await google.colab.kernel.invokeFunction('convertToInteractive',\n",
              "                                                    [key], {});\n",
              "        if (!dataTable) return;\n",
              "\n",
              "        const docLinkHtml = 'Like what you see? Visit the ' +\n",
              "          '<a target=\"_blank\" href=https://colab.research.google.com/notebooks/data_table.ipynb>data table notebook</a>'\n",
              "          + ' to learn more about interactive tables.';\n",
              "        element.innerHTML = '';\n",
              "        dataTable['output_type'] = 'display_data';\n",
              "        await google.colab.output.renderOutput(dataTable, element);\n",
              "        const docLink = document.createElement('div');\n",
              "        docLink.innerHTML = docLinkHtml;\n",
              "        element.appendChild(docLink);\n",
              "      }\n",
              "    </script>\n",
              "  </div>\n",
              "\n",
              "\n",
              "    <div id=\"df-04b68bc5-a97e-49a0-ab41-1fbe56b177a1\">\n",
              "      <button class=\"colab-df-quickchart\" onclick=\"quickchart('df-04b68bc5-a97e-49a0-ab41-1fbe56b177a1')\"\n",
              "                title=\"Suggest charts\"\n",
              "                style=\"display:none;\">\n",
              "\n",
              "<svg xmlns=\"http://www.w3.org/2000/svg\" height=\"24px\"viewBox=\"0 0 24 24\"\n",
              "     width=\"24px\">\n",
              "    <g>\n",
              "        <path d=\"M19 3H5c-1.1 0-2 .9-2 2v14c0 1.1.9 2 2 2h14c1.1 0 2-.9 2-2V5c0-1.1-.9-2-2-2zM9 17H7v-7h2v7zm4 0h-2V7h2v10zm4 0h-2v-4h2v4z\"/>\n",
              "    </g>\n",
              "</svg>\n",
              "      </button>\n",
              "\n",
              "<style>\n",
              "  .colab-df-quickchart {\n",
              "      --bg-color: #E8F0FE;\n",
              "      --fill-color: #1967D2;\n",
              "      --hover-bg-color: #E2EBFA;\n",
              "      --hover-fill-color: #174EA6;\n",
              "      --disabled-fill-color: #AAA;\n",
              "      --disabled-bg-color: #DDD;\n",
              "  }\n",
              "\n",
              "  [theme=dark] .colab-df-quickchart {\n",
              "      --bg-color: #3B4455;\n",
              "      --fill-color: #D2E3FC;\n",
              "      --hover-bg-color: #434B5C;\n",
              "      --hover-fill-color: #FFFFFF;\n",
              "      --disabled-bg-color: #3B4455;\n",
              "      --disabled-fill-color: #666;\n",
              "  }\n",
              "\n",
              "  .colab-df-quickchart {\n",
              "    background-color: var(--bg-color);\n",
              "    border: none;\n",
              "    border-radius: 50%;\n",
              "    cursor: pointer;\n",
              "    display: none;\n",
              "    fill: var(--fill-color);\n",
              "    height: 32px;\n",
              "    padding: 0;\n",
              "    width: 32px;\n",
              "  }\n",
              "\n",
              "  .colab-df-quickchart:hover {\n",
              "    background-color: var(--hover-bg-color);\n",
              "    box-shadow: 0 1px 2px rgba(60, 64, 67, 0.3), 0 1px 3px 1px rgba(60, 64, 67, 0.15);\n",
              "    fill: var(--button-hover-fill-color);\n",
              "  }\n",
              "\n",
              "  .colab-df-quickchart-complete:disabled,\n",
              "  .colab-df-quickchart-complete:disabled:hover {\n",
              "    background-color: var(--disabled-bg-color);\n",
              "    fill: var(--disabled-fill-color);\n",
              "    box-shadow: none;\n",
              "  }\n",
              "\n",
              "  .colab-df-spinner {\n",
              "    border: 2px solid var(--fill-color);\n",
              "    border-color: transparent;\n",
              "    border-bottom-color: var(--fill-color);\n",
              "    animation:\n",
              "      spin 1s steps(1) infinite;\n",
              "  }\n",
              "\n",
              "  @keyframes spin {\n",
              "    0% {\n",
              "      border-color: transparent;\n",
              "      border-bottom-color: var(--fill-color);\n",
              "      border-left-color: var(--fill-color);\n",
              "    }\n",
              "    20% {\n",
              "      border-color: transparent;\n",
              "      border-left-color: var(--fill-color);\n",
              "      border-top-color: var(--fill-color);\n",
              "    }\n",
              "    30% {\n",
              "      border-color: transparent;\n",
              "      border-left-color: var(--fill-color);\n",
              "      border-top-color: var(--fill-color);\n",
              "      border-right-color: var(--fill-color);\n",
              "    }\n",
              "    40% {\n",
              "      border-color: transparent;\n",
              "      border-right-color: var(--fill-color);\n",
              "      border-top-color: var(--fill-color);\n",
              "    }\n",
              "    60% {\n",
              "      border-color: transparent;\n",
              "      border-right-color: var(--fill-color);\n",
              "    }\n",
              "    80% {\n",
              "      border-color: transparent;\n",
              "      border-right-color: var(--fill-color);\n",
              "      border-bottom-color: var(--fill-color);\n",
              "    }\n",
              "    90% {\n",
              "      border-color: transparent;\n",
              "      border-bottom-color: var(--fill-color);\n",
              "    }\n",
              "  }\n",
              "</style>\n",
              "\n",
              "      <script>\n",
              "        async function quickchart(key) {\n",
              "          const quickchartButtonEl =\n",
              "            document.querySelector('#' + key + ' button');\n",
              "          quickchartButtonEl.disabled = true;  // To prevent multiple clicks.\n",
              "          quickchartButtonEl.classList.add('colab-df-spinner');\n",
              "          try {\n",
              "            const charts = await google.colab.kernel.invokeFunction(\n",
              "                'suggestCharts', [key], {});\n",
              "          } catch (error) {\n",
              "            console.error('Error during call to suggestCharts:', error);\n",
              "          }\n",
              "          quickchartButtonEl.classList.remove('colab-df-spinner');\n",
              "          quickchartButtonEl.classList.add('colab-df-quickchart-complete');\n",
              "        }\n",
              "        (() => {\n",
              "          let quickchartButtonEl =\n",
              "            document.querySelector('#df-04b68bc5-a97e-49a0-ab41-1fbe56b177a1 button');\n",
              "          quickchartButtonEl.style.display =\n",
              "            google.colab.kernel.accessAllowed ? 'block' : 'none';\n",
              "        })();\n",
              "      </script>\n",
              "    </div>\n",
              "\n",
              "    </div>\n",
              "  </div>\n"
            ],
            "application/vnd.google.colaboratory.intrinsic+json": {
              "type": "dataframe",
              "variable_name": "loja",
              "summary": "{\n  \"name\": \"loja\",\n  \"rows\": 2359,\n  \"fields\": [\n    {\n      \"column\": \"Produto\",\n      \"properties\": {\n        \"dtype\": \"category\",\n        \"num_unique_values\": 51,\n        \"samples\": [\n          \"Viol\\u00e3o\",\n          \"Bola de basquete\",\n          \"Smartwatch\"\n        ],\n        \"semantic_type\": \"\",\n        \"description\": \"\"\n      }\n    },\n    {\n      \"column\": \"Categoria do Produto\",\n      \"properties\": {\n        \"dtype\": \"category\",\n        \"num_unique_values\": 8,\n        \"samples\": [\n          \"moveis\",\n          \"esporte e lazer\",\n          \"eletronicos\"\n        ],\n        \"semantic_type\": \"\",\n        \"description\": \"\"\n      }\n    },\n    {\n      \"column\": \"Pre\\u00e7o\",\n      \"properties\": {\n        \"dtype\": \"number\",\n        \"std\": 819.5827782539145,\n        \"min\": 10.07,\n        \"max\": 3969.38,\n        \"num_unique_values\": 2315,\n        \"samples\": [\n          446.11,\n          107.31,\n          65.86\n        ],\n        \"semantic_type\": \"\",\n        \"description\": \"\"\n      }\n    },\n    {\n      \"column\": \"Frete\",\n      \"properties\": {\n        \"dtype\": \"number\",\n        \"std\": 43.814183327408166,\n        \"min\": 0.0,\n        \"max\": 214.3770604781,\n        \"num_unique_values\": 2149,\n        \"samples\": [\n          83.815279607,\n          16.069664669,\n          14.0344876928\n        ],\n        \"semantic_type\": \"\",\n        \"description\": \"\"\n      }\n    },\n    {\n      \"column\": \"Data da Compra\",\n      \"properties\": {\n        \"dtype\": \"object\",\n        \"num_unique_values\": 1018,\n        \"samples\": [\n          \"15/09/2022\",\n          \"03/06/2020\",\n          \"06/11/2021\"\n        ],\n        \"semantic_type\": \"\",\n        \"description\": \"\"\n      }\n    },\n    {\n      \"column\": \"Vendedor\",\n      \"properties\": {\n        \"dtype\": \"category\",\n        \"num_unique_values\": 14,\n        \"samples\": [\n          \"Juliana Costa\",\n          \"Mariana Ferreira\",\n          \"Pedro Gomes\"\n        ],\n        \"semantic_type\": \"\",\n        \"description\": \"\"\n      }\n    },\n    {\n      \"column\": \"Local da compra\",\n      \"properties\": {\n        \"dtype\": \"category\",\n        \"num_unique_values\": 26,\n        \"samples\": [\n          \"TO\",\n          \"RN\",\n          \"SP\"\n        ],\n        \"semantic_type\": \"\",\n        \"description\": \"\"\n      }\n    },\n    {\n      \"column\": \"Avalia\\u00e7\\u00e3o da compra\",\n      \"properties\": {\n        \"dtype\": \"number\",\n        \"std\": 1,\n        \"min\": 1,\n        \"max\": 5,\n        \"num_unique_values\": 5,\n        \"samples\": [\n          1,\n          2,\n          5\n        ],\n        \"semantic_type\": \"\",\n        \"description\": \"\"\n      }\n    },\n    {\n      \"column\": \"Tipo de pagamento\",\n      \"properties\": {\n        \"dtype\": \"category\",\n        \"num_unique_values\": 4,\n        \"samples\": [\n          \"boleto\",\n          \"cartao_debito\",\n          \"cartao_credito\"\n        ],\n        \"semantic_type\": \"\",\n        \"description\": \"\"\n      }\n    },\n    {\n      \"column\": \"Quantidade de parcelas\",\n      \"properties\": {\n        \"dtype\": \"number\",\n        \"std\": 2,\n        \"min\": 1,\n        \"max\": 24,\n        \"num_unique_values\": 15,\n        \"samples\": [\n          7,\n          14,\n          8\n        ],\n        \"semantic_type\": \"\",\n        \"description\": \"\"\n      }\n    },\n    {\n      \"column\": \"lat\",\n      \"properties\": {\n        \"dtype\": \"number\",\n        \"std\": 5.372399916530833,\n        \"min\": -30.17,\n        \"max\": 1.41,\n        \"num_unique_values\": 26,\n        \"samples\": [\n          -9.46,\n          -5.81,\n          -22.19\n        ],\n        \"semantic_type\": \"\",\n        \"description\": \"\"\n      }\n    },\n    {\n      \"column\": \"lon\",\n      \"properties\": {\n        \"dtype\": \"number\",\n        \"std\": 4.183180020544179,\n        \"min\": -70.55,\n        \"max\": -36.59,\n        \"num_unique_values\": 26,\n        \"samples\": [\n          -48.26,\n          -36.59,\n          -48.79\n        ],\n        \"semantic_type\": \"\",\n        \"description\": \"\"\n      }\n    }\n  ]\n}"
            }
          },
          "metadata": {},
          "execution_count": 41
        }
      ],
      "source": [
        "import pandas as pd\n",
        "import matplotlib.pyplot as plt\n",
        "\n",
        "url = \"https://raw.githubusercontent.com/alura-es-cursos/challenge1-data-science/refs/heads/main/base-de-dados-challenge-1/loja_1.csv\"\n",
        "url2 = \"https://raw.githubusercontent.com/alura-es-cursos/challenge1-data-science/refs/heads/main/base-de-dados-challenge-1/loja_2.csv\"\n",
        "url3 = \"https://raw.githubusercontent.com/alura-es-cursos/challenge1-data-science/refs/heads/main/base-de-dados-challenge-1/loja_3.csv\"\n",
        "url4 = \"https://raw.githubusercontent.com/alura-es-cursos/challenge1-data-science/refs/heads/main/base-de-dados-challenge-1/loja_4.csv\"\n",
        "\n",
        "loja = pd.read_csv(url)\n",
        "loja2 = pd.read_csv(url2)\n",
        "loja3 = pd.read_csv(url3)\n",
        "loja4 = pd.read_csv(url4)\n",
        "\n",
        "loja.head()"
      ]
    },
    {
      "cell_type": "markdown",
      "source": [
        "#1. Análise do faturamento\n"
      ],
      "metadata": {
        "id": "X62IW3KFUIYm"
      }
    },
    {
      "cell_type": "code",
      "source": [
        "faturamento1 = sum(loja['Preço'])\n",
        "faturamento2 = sum(loja2['Preço'])\n",
        "faturamento3 = sum(loja3['Preço'])\n",
        "faturamento4 = sum(loja4['Preço'])\n",
        "\n",
        "print(f'Faturamento loja 1: R$ {faturamento1:.2f}')\n",
        "print(f'Faturamento loja 2: R$ {faturamento2:.2f}')\n",
        "print(f'Faturamento loja 3: R$ {faturamento3:.2f}')\n",
        "print(f'Faturamento loja 4: R$ {faturamento4:.2f}')"
      ],
      "metadata": {
        "id": "xykobSftV64I",
        "colab": {
          "base_uri": "https://localhost:8080/"
        },
        "outputId": "ac545d89-1e62-4f2d-dd83-2862e3823bb5"
      },
      "execution_count": 39,
      "outputs": [
        {
          "output_type": "stream",
          "name": "stdout",
          "text": [
            "Faturamento loja 1: R$ 1534509.12\n",
            "Faturamento loja 2: R$ 1488459.06\n",
            "Faturamento loja 3: R$ 1464025.03\n",
            "Faturamento loja 4: R$ 1384497.58\n"
          ]
        }
      ]
    },
    {
      "cell_type": "code",
      "source": [
        "lojas_nomes = ['Loja 1', 'Loja 2', 'Loja 3', 'Loja 4']\n",
        "faturamentos = [faturamento1, faturamento2, faturamento3, faturamento4]\n",
        "\n",
        "dados_para_ordenar = sorted(zip(faturamentos, lojas_nomes))\n",
        "faturamentos_ordenados, lojas_nomes_ordenados = zip(*dados_para_ordenar)\n",
        "\n",
        "fig, ax = plt.subplots(figsize=(12, 7))\n",
        "ax.barh(lojas_nomes_ordenados, faturamentos_ordenados, color='hotpink')\n",
        "\n",
        "ax.set_title('Faturamento por Loja')\n",
        "ax.set_xlabel('Faturamento (R$)')\n",
        "\n",
        "ax.spines['top'].set_visible(False)\n",
        "ax.spines['right'].set_visible(False)\n",
        "ax.spines['left'].set_visible(False)\n",
        "\n",
        "plt.show()\n"
      ],
      "metadata": {
        "id": "KDyr8E71V3m-",
        "colab": {
          "base_uri": "https://localhost:8080/",
          "height": 641
        },
        "outputId": "b98d7653-a3a9-4b86-bd63-2107b4cece7e"
      },
      "execution_count": 52,
      "outputs": [
        {
          "output_type": "display_data",
          "data": {
            "text/plain": [
              "<Figure size 1200x700 with 1 Axes>"
            ],
            "image/png": "[encoded data removed]"
          },
          "metadata": {}
        }
      ]
    },
    {
      "cell_type": "markdown",
      "source": [
        "Loja 1 faturou mais.\n",
        "Loja 4 faturou menos."
      ],
      "metadata": {
        "id": "9ib7gjXe6j2_"
      }
    },
    {
      "cell_type": "markdown",
      "source": [
        "# 2. Vendas por Categoria\n"
      ],
      "metadata": {
        "id": "2V_vcAPzWZmR"
      }
    },
    {
      "cell_type": "code",
      "source": [
        "# dataframe.groupby('coluna_para_agrupar')['coluna_para_calcular'].funcao_de_agregacao()\n",
        "\n",
        "vendas_categorias1 = loja.groupby('Categoria do Produto')['Preço'].sum().sort_values(ascending=False)\n",
        "vendas_categorias2 = loja2.groupby('Categoria do Produto')['Preço'].sum().sort_values(ascending=False)\n",
        "vendas_categorias3 = loja3.groupby('Categoria do Produto')['Preço'].sum().sort_values(ascending=False)\n",
        "vendas_categorias4 = loja4.groupby('Categoria do Produto')['Preço'].sum().sort_values(ascending=False)\n",
        "\n",
        "\n",
        "print(f'Total de vendas por categoria na loja 1: \\n{vendas_categorias1}')\n",
        "print(f'\\nTotal de vendas por categoria na loja 2: \\n{vendas_categorias2}')\n",
        "print(f'\\nTotal de vendas por categoria na loja 3: \\n{vendas_categorias3}')\n",
        "print(f'\\nTotal de vendas por categoria na loja 4: \\n{vendas_categorias4}')"
      ],
      "metadata": {
        "id": "A34YupIuYhfF",
        "colab": {
          "base_uri": "https://localhost:8080/"
        },
        "outputId": "cc39bf34-8850-49c5-f19c-3973e1f1a43e"
      },
      "execution_count": 37,
      "outputs": [
        {
          "output_type": "stream",
          "name": "stdout",
          "text": [
            "Total de vendas por categoria na loja 1: \n",
            "Categoria do Produto\n",
            "eletronicos              572659.23\n",
            "eletrodomesticos         484913.36\n",
            "moveis                   250178.11\n",
            "instrumentos musicais    121731.69\n",
            "esporte e lazer           52387.55\n",
            "brinquedos                23993.78\n",
            "utilidades domesticas     16931.48\n",
            "livros                    11713.92\n",
            "Name: Preço, dtype: float64\n",
            "\n",
            "Total de vendas por categoria na loja 2: \n",
            "Categoria do Produto\n",
            "eletronicos              547773.71\n",
            "eletrodomesticos         464758.13\n",
            "moveis                   235234.68\n",
            "instrumentos musicais    139987.03\n",
            "esporte e lazer           46326.09\n",
            "brinquedos                21262.21\n",
            "utilidades domesticas     19662.86\n",
            "livros                    13454.35\n",
            "Name: Preço, dtype: float64\n",
            "\n",
            "Total de vendas por categoria na loja 3: \n",
            "Categoria do Produto\n",
            "eletronicos              547699.92\n",
            "eletrodomesticos         438984.89\n",
            "moveis                   268095.56\n",
            "instrumentos musicais    103174.45\n",
            "esporte e lazer           47456.10\n",
            "brinquedos                25869.20\n",
            "utilidades domesticas     20080.21\n",
            "livros                    12664.70\n",
            "Name: Preço, dtype: float64\n",
            "\n",
            "Total de vendas por categoria na loja 4: \n",
            "Categoria do Produto\n",
            "eletronicos              545966.86\n",
            "eletrodomesticos         377680.65\n",
            "moveis                   256705.65\n",
            "instrumentos musicais    100136.50\n",
            "esporte e lazer           44465.65\n",
            "brinquedos                27015.67\n",
            "utilidades domesticas     20098.83\n",
            "livros                    12427.77\n",
            "Name: Preço, dtype: float64\n"
          ]
        }
      ]
    },
    {
      "cell_type": "code",
      "source": [
        "import seaborn as sns\n",
        "\n",
        "dados_heatmap = {\n",
        "    'Loja 1': vendas_categorias1,\n",
        "    'Loja 2': vendas_categorias2,\n",
        "    'Loja 3': vendas_categorias3,\n",
        "    'Loja 4': vendas_categorias4\n",
        "}\n",
        "\n",
        "df_vendas_consolidadas = pd.DataFrame(dados_heatmap).fillna(0)\n",
        "\n",
        "# NORMALIZAÇÃO POR CATEGORIA\n",
        "# Para cada linha, dividimos seu valor pelo total da linha.\n",
        "# axis=1 soma horizontalmente (calcula o total da categoria)\n",
        "# axis=0 na divisão alinha o índice (divide cada célula pelo total da sua linha)\n",
        "df_por_categoria = df_vendas_consolidadas.div(df_vendas_consolidadas.sum(axis=1), axis=0) * 100\n",
        "\n",
        "plt.figure(figsize=(12, 8)) # Define o tamanho da figura\n",
        "\n",
        "sns.heatmap(\n",
        "    df_por_categoria, # Nossos dados consolidados\n",
        "    annot=False,             # 'annotate' = Escrever os valores nas células\n",
        "    fmt='.0f',              # Formato dos números: float com 0 casas decimais\n",
        "    cmap='inferno_r',         # Esquema de cores (outros bons: 'plasma', 'inferno', 'coolwarm')\n",
        "    linewidths=.5           # Linha branca separando as células\n",
        ")\n",
        "\n",
        "plt.title('Mapa de Calor de Faturamento por Categoria em % de Loja (R$) ', fontsize=16)\n",
        "plt.xlabel('Lojas', fontsize=12)\n",
        "plt.ylabel('Categorias de Produto', fontsize=12)\n",
        "plt.xticks(rotation=45)\n",
        "plt.show()\n"
      ],
      "metadata": {
        "id": "yZR6cOjXYSk1",
        "colab": {
          "base_uri": "https://localhost:8080/",
          "height": 612
        },
        "outputId": "13941688-ab7c-4dad-f2d7-80b22992729b"
      },
      "execution_count": 66,
      "outputs": [
        {
          "output_type": "display_data",
          "data": {
            "text/plain": [
              "<Figure size 1200x800 with 2 Axes>"
            ],
            "image/png": "[encoded data removed]"
          },
          "metadata": {}
        }
      ]
    },
    {
      "cell_type": "markdown",
      "source": [
        "# 3. Média de Avaliação das Lojas"
      ],
      "metadata": {
        "id": "Rq6tU_xSY3jk"
      }
    },
    {
      "cell_type": "code",
      "source": [
        "media_avaliacao1 = loja['Avaliação da compra'].mean()\n",
        "media_avaliacao2 = loja2['Avaliação da compra'].mean()\n",
        "media_avaliacao3 = loja3['Avaliação da compra'].mean()\n",
        "media_avaliacao4 = loja4['Avaliação da compra'].mean()"
      ],
      "metadata": {
        "id": "bh3jjjJwY5MU"
      },
      "execution_count": 7,
      "outputs": []
    },
    {
      "cell_type": "code",
      "source": [
        "print(f'Média de avaliação da loja 1: {media_avaliacao1:.2f}')\n",
        "print(f'Média de avaliação da loja 2: {media_avaliacao2:.2f}')\n",
        "print(f'Média de avaliação da loja 3: {media_avaliacao3:.2f}')\n",
        "print(f'Média de avaliação da loja 4: {media_avaliacao4:.2f}')"
      ],
      "metadata": {
        "id": "I0KkjPoTY88F",
        "colab": {
          "base_uri": "https://localhost:8080/"
        },
        "outputId": "4700fe39-e59e-4753-d302-46959633653e"
      },
      "execution_count": 8,
      "outputs": [
        {
          "output_type": "stream",
          "name": "stdout",
          "text": [
            "Média de avaliação da loja 1: 3.98\n",
            "Média de avaliação da loja 2: 4.04\n",
            "Média de avaliação da loja 3: 4.05\n",
            "Média de avaliação da loja 4: 4.00\n"
          ]
        }
      ]
    },
    {
      "cell_type": "markdown",
      "source": [
        "# 4. Produtos Mais e Menos Vendidos"
      ],
      "metadata": {
        "id": "DmNp1KPBZCm-"
      }
    },
    {
      "cell_type": "code",
      "source": [
        "def portugues(prod):\n",
        "  artigo = \"Os\" if len(prod) > 1 else \"O\"\n",
        "  nprod = \"produtos\" if len(prod) > 1 else \"produto\"\n",
        "  vend = \"vendidos\" if len(prod) > 1 else \"vendido\"\n",
        "  verbo = \"são\" if len(prod) > 1 else \"é\"\n",
        "  return [artigo, nprod, vend, verbo]\n",
        "\n",
        "def vendas_loja(df_loja, nome_loja):\n",
        "  print(f'\\n------------------------------{nome_loja}------------------------------:\\n')\n",
        "  loja_count = df_loja.groupby('Produto')['Preço'].count()\n",
        "  valor_maximo = loja_count.max()\n",
        "  valor_minimo = loja_count.min()\n",
        "\n",
        "  mais_vendidos = loja_count[loja_count == valor_maximo]\n",
        "  menos_vendidos = loja_count[loja_count == valor_minimo]\n",
        "\n",
        "  nomes_mais_vendidos = \", \".join(mais_vendidos.index.tolist())\n",
        "  nomes_menos_vendidos = \", \".join(menos_vendidos.index.tolist())\n",
        "\n",
        "  plural_mais = portugues(mais_vendidos)\n",
        "  plural_menos = portugues(menos_vendidos)\n",
        "\n",
        "  print(f'{plural_mais[0]} {plural_mais[1]} mais {plural_mais[2]} na {nome_loja} {plural_mais[3]}: {nomes_mais_vendidos}.')\n",
        "  print(f'{plural_menos[0]} {plural_menos[1]} menos {plural_menos[2]} na {nome_loja} {plural_menos[3]}: {nomes_menos_vendidos}.\\n')\n",
        "\n",
        "vendas_loja(loja, \"Loja 1\")\n",
        "vendas_loja(loja2, \"Loja 2\")\n",
        "vendas_loja(loja3, \"Loja 3\")\n",
        "vendas_loja(loja4, \"Loja 4\")\n"
      ],
      "metadata": {
        "id": "qoyjqijQZHfF",
        "colab": {
          "base_uri": "https://localhost:8080/"
        },
        "outputId": "148bdead-6c62-4e71-d901-e9c05e5124a4"
      },
      "execution_count": 27,
      "outputs": [
        {
          "output_type": "stream",
          "name": "stdout",
          "text": [
            "\n",
            "------------------------------Loja 1------------------------------:\n",
            "\n",
            "Os produtos mais vendidos na Loja 1 são: Guarda roupas, Micro-ondas, TV Led UHD 4K.\n",
            "Os produtos menos vendidos na Loja 1 são: Celular ABXY, Headset.\n",
            "\n",
            "\n",
            "------------------------------Loja 2------------------------------:\n",
            "\n",
            "O produto mais vendido na Loja 2 é: Iniciando em programação.\n",
            "O produto menos vendido na Loja 2 é: Jogo de tabuleiro.\n",
            "\n",
            "\n",
            "------------------------------Loja 3------------------------------:\n",
            "\n",
            "O produto mais vendido na Loja 3 é: Kit banquetas.\n",
            "O produto menos vendido na Loja 3 é: Blocos de montar.\n",
            "\n",
            "\n",
            "------------------------------Loja 4------------------------------:\n",
            "\n",
            "O produto mais vendido na Loja 4 é: Cama box.\n",
            "O produto menos vendido na Loja 4 é: Guitarra.\n",
            "\n"
          ]
        }
      ]
    },
    {
      "cell_type": "markdown",
      "source": [
        "# 5. Frete Médio por Loja\n"
      ],
      "metadata": {
        "id": "Fl0cGi3bZKqU"
      }
    },
    {
      "cell_type": "code",
      "source": [
        "frete_medio1 = loja['Frete'].mean()\n",
        "frete_medio2 = loja2['Frete'].mean()\n",
        "frete_medio3 = loja3['Frete'].mean()\n",
        "frete_medio4 = loja4['Frete'].mean()\n",
        "\n",
        "\n",
        "print(f'Frete médio da loja 1: R$ {frete_medio1:.2f}')\n",
        "print(f'Frete médio da loja 2: R$ {frete_medio2:.2f}')\n",
        "print(f'Frete médio da loja 3: R$ {frete_medio3:.2f}')\n",
        "print(f'Frete médio da loja 4: R$ {frete_medio4:.2f}')"
      ],
      "metadata": {
        "id": "S2JeaCykZNy9",
        "colab": {
          "base_uri": "https://localhost:8080/"
        },
        "outputId": "99ede9c5-e31c-4949-f722-d1d527a93935"
      },
      "execution_count": 53,
      "outputs": [
        {
          "output_type": "stream",
          "name": "stdout",
          "text": [
            "Frete médio da loja 1: R$ 34.69\n",
            "Frete médio da loja 2: R$ 33.62\n",
            "Frete médio da loja 3: R$ 33.07\n",
            "Frete médio da loja 4: R$ 31.28\n"
          ]
        }
      ]
    },
    {
      "cell_type": "code",
      "source": [
        "frete_geral = (frete_medio1 + frete_medio2 + frete_medio3 + frete_medio4) / 4\n",
        "\n",
        "print(f'Frete médio geral: R$ {frete_geral:.2f}')\n",
        "\n",
        "\n",
        "lojas_nomes = ['Loja 1', 'Loja 2', 'Loja 3', 'Loja 4']\n",
        "fretes_medios = [frete_medio1, frete_medio2, frete_medio3, frete_medio4]\n",
        "\n",
        "fig, ax = plt.subplots(figsize=(10, 6))\n",
        "\n",
        "ax.bar(lojas_nomes, fretes_medios, color='cornflowerblue', label='Frete Médio por Loja')\n",
        "\n",
        "# LINHA DA MÉDIA GERAL\n",
        "ax.axhline(\n",
        "    y=frete_geral,\n",
        "    color='red',\n",
        "    linestyle='--',\n",
        "    linewidth=2,\n",
        "    label=f'Frete Médio Geral (R$ {frete_geral:.2f})'\n",
        ")\n",
        "\n",
        "ax.legend(loc='lower center', ncol=2, fontsize=11, bbox_to_anchor=(0.5, -0.2))\n",
        "\n",
        "# Ajusta o layout para garantir que a legenda não seja cortada\n",
        "plt.tight_layout(pad=3.0)\n",
        "\n",
        "ax.set_title('Frete Médio por Loja vs. Média Geral', fontsize=16)\n",
        "ax.set_ylabel('Valor do Frete Médio (R$)', fontsize=12)\n",
        "\n",
        "# Formata o eixo Y para exibir como moeda\n",
        "from matplotlib.ticker import FuncFormatter\n",
        "def formatador_moeda(x, pos):\n",
        "    return f'R$ {x:,.2f}'\n",
        "ax.yaxis.set_major_formatter(FuncFormatter(formatador_moeda))\n",
        "\n",
        "plt.show()"
      ],
      "metadata": {
        "colab": {
          "base_uri": "https://localhost:8080/",
          "height": 510
        },
        "id": "78FKnm4wWhoG",
        "outputId": "c6db194c-1dd4-465d-98ea-b014bc82926f"
      },
      "execution_count": 69,
      "outputs": [
        {
          "output_type": "stream",
          "name": "stdout",
          "text": [
            "Frete médio geral: R$ 33.17\n"
          ]
        },
        {
          "output_type": "display_data",
          "data": {
            "text/plain": [
              "<Figure size 1000x600 with 1 Axes>"
            ],
            "image/png": "[encoded data removed]"
          },
          "metadata": {}
        }
      ]
    },
    {
      "cell_type": "markdown",
      "metadata": {
        "id": "59e704a7"
      },
      "source": [
        "# Relatório de Análise das Lojas para Venda\n",
        "\n",
        "## Introdução\n",
        "\n",
        "Este relatório apresenta uma análise comparativa das quatro lojas sob a gestão do Senhor João, com o objetivo de identificar qual delas seria a mais indicada para venda, considerando diversos indicadores de desempenho e satisfação do cliente. A análise se baseia nos dados fornecidos, abrangendo faturamento, vendas por categoria, avaliação dos clientes, produtos mais e menos vendidos, e custo médio do frete.\n",
        "\n",
        "## Análise dos Dados\n",
        "\n",
        "### Faturamento Total\n",
        "\n",
        "A análise do faturamento total das lojas revelou os seguintes valores:\n",
        "\n",
        "- Loja 1: R\\$ 1.534.509,12\n",
        "- Loja 2: R\\$ 1.488.459,06\n",
        "- Loja 3: R\\$ 1.464.025,03\n",
        "- Loja 4: R\\$ 1.384.497,58\n",
        "\n",
        "Conforme visualizado no gráfico de barras de faturamento por loja, a **Loja 1** apresentou o maior faturamento, enquanto a **Loja 4** obteve o menor.\n",
        "\n",
        "### Vendas por Categoria de Produto\n",
        "\n",
        "A distribuição das vendas por categoria de produto foi analisada para cada loja. O mapa de calor gerado demonstra a porcentagem de faturamento que cada categoria representa em cada loja. Observamos que as categorias \"eletronicos\" e \"eletrodomesticos\" são maiorias em todas as lojas, porém com variações na sua representatividade percentual. Outras categorias, como \"livros\" e \"utilidades domesticas\", possuem menor participação no faturamento geral.\n",
        "\n",
        "### Média de Avaliação dos Clientes\n",
        "\n",
        "As médias de avaliação das compras por loja foram calculadas:\n",
        "\n",
        "- Loja 1: 3,98\n",
        "- Loja 2: 4,04\n",
        "- Loja 3: 4,05\n",
        "- Loja 4: 4,00\n",
        "\n",
        "As lojas apresentam médias de avaliação relativamente próximas, indicando um nível de satisfação do cliente similar entre elas. A **Loja 3** apresentou a maior média, enquanto a **Loja 1** teve a menor.\n",
        "\n",
        "### Produtos Mais e Menos Vendidos\n",
        "\n",
        "Identificamos os produtos com maior e menor volume de vendas em cada loja:\n",
        "\n",
        "- Os produtos mais vendidos na **Loja 1** são: Guarda roupas, Micro-ondas, TV Led UHD 4K.\n",
        "- Os produtos menos vendidos na **Loja 1** são: Celular ABXY, Headset.\n",
        "\n",
        "\n",
        "- O produto mais vendido na **Loja 2** é: Iniciando em programação.\n",
        "- O produto menos vendido na **Loja 2** é: Jogo de tabuleiro.\n",
        "\n",
        "\n",
        "- O produto mais vendido na **Loja 3** é: Kit banquetas.\n",
        "O produto menos vendido na **Loja 3** é: Blocos de montar.\n",
        "\n",
        "\n",
        "- O produto mais vendido na **Loja 4** é: Cama box.\n",
        "- O produto menos vendido na **Loja 4** é: Guitarra.\n",
        "\n",
        "\n",
        "Esta análise revela a popularidade de produtos específicos em cada local, o que pode influenciar o valor de mercado da loja.\n",
        "\n",
        "### Frete Médio\n",
        "\n",
        "O custo médio do frete por loja foi calculado:\n",
        "\n",
        "- Frete médio da loja 1: R\\$ 34,69\n",
        "- Frete médio da loja 2: R\\$ 33,62\n",
        "- Frete médio da loja 3: R\\$ 33,07\n",
        "- Frete médio da loja 4: R\\$ 31,28\n",
        "\n",
        "O gráfico de barras comparando o frete médio de cada loja com a média geral (R\\$ 33,17) mostra que a **Loja 4** possui o menor frete médio, enquanto a **Loja 1** possui o maior. O custo do frete pode impactar a competitividade da loja.\n",
        "\n",
        "## Conclusão e Recomendação\n",
        "\n",
        "Com base na análise dos dados, a **Loja 4** apresenta o menor faturamento total e o menor frete médio. Embora a média de avaliação dos clientes seja razoável, a performance em termos de receita e o menor volume de vendas a colocam como a candidata mais lógica para ser vendida.\n",
        "\n",
        "A **Loja 1**, por outro lado, demonstra o maior faturamento, o que a torna a mais rentável. Apesar do frete médio mais alto e da menor média de avaliação, seu desempenho financeiro a destaca positivamente.\n",
        "\n",
        "As Lojas 2 e 3 apresentam resultados intermediários em faturamento e frete, com avaliações de clientes ligeiramente melhores que a Loja 1.\n",
        "\n",
        "Considerando a necessidade de vender uma das lojas, e buscando otimizar o portfólio para manter as operações mais lucrativas, a recomendação é vender a **Loja 4**. Sua performance financeira inferior e o menor faturamento a tornam a opção menos estratégica para ser mantida a longo prazo em comparação com as outras lojas, especialmente a Loja 1, que lidera em receita.\n",
        "\n",
        "**Recomendação:** Vender a **Loja 4**.\n",
        "\n",
        "**Justificativa:** A Loja 4 possui o menor faturamento total e um dos menores fretes médios. Apesar de uma avaliação de cliente razoável, seu desempenho financeiro a posiciona como a loja menos lucrativa entre as quatro, tornando-a a candidata mais adequada para venda estratégica, permitindo focar recursos nas lojas de maior performance."
      ]
    }
  ]
}